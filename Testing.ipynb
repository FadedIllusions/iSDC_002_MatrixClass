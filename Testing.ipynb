{
 "cells": [
  {
   "cell_type": "code",
   "execution_count": 26,
   "metadata": {},
   "outputs": [],
   "source": [
    "   def negative(matrix):\n",
    "\n",
    "\n",
    "        mNegative = []\n",
    "        row = []\n",
    "                           \n",
    "        for i in range(len(matrix)):\n",
    "            for j in range(len(matrix)):\n",
    "                row.append(-matrix[i][j])\n",
    "        mNegative.append(row)\n",
    "        row = []\n",
    "        \n",
    "        return mNegative"
   ]
  },
  {
   "cell_type": "code",
   "execution_count": 25,
   "metadata": {},
   "outputs": [
    {
     "name": "stdout",
     "output_type": "stream",
     "text": [
      "[[[-1, 0, 0, -1]]]\n"
     ]
    }
   ],
   "source": [
    "    I2 = negative([\n",
    "        [1, 0],\n",
    "        [0, 1]\n",
    "        ])\n",
    "    \n",
    "    print(I2)"
   ]
  },
  {
   "cell_type": "code",
   "execution_count": null,
   "metadata": {},
   "outputs": [],
   "source": []
  }
 ],
 "metadata": {
  "kernelspec": {
   "display_name": "Python 3",
   "language": "python",
   "name": "python3"
  },
  "language_info": {
   "codemirror_mode": {
    "name": "ipython",
    "version": 3
   },
   "file_extension": ".py",
   "mimetype": "text/x-python",
   "name": "python",
   "nbconvert_exporter": "python",
   "pygments_lexer": "ipython3",
   "version": "3.6.3"
  }
 },
 "nbformat": 4,
 "nbformat_minor": 2
}
